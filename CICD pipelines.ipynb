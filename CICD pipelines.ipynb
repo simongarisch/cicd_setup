{
 "cells": [
  {
   "cell_type": "markdown",
   "metadata": {},
   "source": [
    "# CICD Pipelines"
   ]
  },
  {
   "cell_type": "markdown",
   "metadata": {},
   "source": [
    "## Add a .gitignore\n",
    "We do not want to load our 'env' folder and all of the contents to github."
   ]
  },
  {
   "cell_type": "code",
   "execution_count": 1,
   "metadata": {},
   "outputs": [],
   "source": [
    "import os\n",
    "\n",
    "file_name = \".gitignore\"\n",
    "\n",
    "content = '''\n",
    "env/\n",
    ".ipynb_checkpoints/\n",
    ".pytest_cache/\n",
    "__pycache__/\n",
    "'''\n",
    "\n",
    "with open(file_name, \"w\") as target_file:\n",
    "    target_file.write(content)\n"
   ]
  },
  {
   "cell_type": "markdown",
   "metadata": {},
   "source": [
    "## Commit this to github\n",
    "We have the repo [here](https://github.com/simongarisch/cicd_setup)."
   ]
  },
  {
   "cell_type": "markdown",
   "metadata": {},
   "source": [
    "## Our environment\n",
    "We are going to manage the environment with virtualenv"
   ]
  },
  {
   "cell_type": "code",
   "execution_count": 2,
   "metadata": {},
   "outputs": [
    {
     "name": "stdout",
     "output_type": "stream",
     "text": [
      "Using base prefix 'c:\\\\anaconda2\\\\envs\\\\py36'\r\n",
      "  No LICENSE.txt / LICENSE found in source\r\n",
      "New python executable in U:\\git\\cicd_setup\\env\\Scripts\\python.exe\r\n",
      "Installing setuptools, pip, wheel...\r\n",
      "done.\r\n"
     ]
    }
   ],
   "source": [
    "%%bash\n",
    "source activate py36\n",
    "virtualenv env"
   ]
  },
  {
   "cell_type": "code",
   "execution_count": null,
   "metadata": {},
   "outputs": [],
   "source": [
    "%%bash\n",
    "source env/scripts/activate\n",
    "pip install pytest\n",
    "pip install flask\n",
    "pip install black"
   ]
  },
  {
   "cell_type": "markdown",
   "metadata": {},
   "source": [
    "Use this environment to create a requirements.txt file."
   ]
  },
  {
   "cell_type": "code",
   "execution_count": 5,
   "metadata": {},
   "outputs": [],
   "source": [
    "%%bash\n",
    "source env/scripts/activate\n",
    "pip freeze > requirements.txt"
   ]
  },
  {
   "cell_type": "markdown",
   "metadata": {},
   "source": [
    "## The script\n",
    "First we start with a very basic python script..."
   ]
  },
  {
   "cell_type": "code",
   "execution_count": 6,
   "metadata": {},
   "outputs": [],
   "source": [
    "pycode = '''\n",
    "\n",
    "def meaning_of_life():\n",
    "    return 42\n",
    "\n",
    "\n",
    "def main():\n",
    "    print(meaning_of_life())\n",
    "\n",
    "\n",
    "if __name__ == \"__main__\":\n",
    "    main()\n",
    "'''"
   ]
  },
  {
   "cell_type": "code",
   "execution_count": 7,
   "metadata": {},
   "outputs": [
    {
     "name": "stdout",
     "output_type": "stream",
     "text": [
      "42\n"
     ]
    }
   ],
   "source": [
    "exec(pycode)"
   ]
  },
  {
   "cell_type": "code",
   "execution_count": 8,
   "metadata": {},
   "outputs": [],
   "source": [
    "import os\n",
    "\n",
    "file_name = \"meaning.py\"\n",
    "with open(file_name, \"w\") as target_file:\n",
    "    target_file.write(pycode)\n"
   ]
  },
  {
   "cell_type": "code",
   "execution_count": 9,
   "metadata": {},
   "outputs": [
    {
     "name": "stdout",
     "output_type": "stream",
     "text": [
      "\r\n",
      "\r\n",
      "def meaning_of_life():\r\n",
      "    return 42\r\n",
      "\r\n",
      "\r\n",
      "def main():\r\n",
      "    print(meaning_of_life())\r\n",
      "\r\n",
      "\r\n",
      "if __name__ == \"__main__\":\r\n",
      "    main()\r\n"
     ]
    }
   ],
   "source": [
    "%%bash\n",
    "cat meaning.py"
   ]
  },
  {
   "cell_type": "markdown",
   "metadata": {},
   "source": [
    "## Testing the script"
   ]
  },
  {
   "cell_type": "code",
   "execution_count": 10,
   "metadata": {},
   "outputs": [],
   "source": [
    "test_code = \"\"\"\n",
    "import pytest\n",
    "import meaning\n",
    "\n",
    "def test_meaning():\n",
    "    assert meaning.meaning_of_life() == 42\n",
    "\"\"\""
   ]
  },
  {
   "cell_type": "code",
   "execution_count": 11,
   "metadata": {},
   "outputs": [],
   "source": [
    "file_name = \"test_meaning.py\"\n",
    "with open(file_name, \"w\") as target_file:\n",
    "    target_file.write(test_code)\n"
   ]
  },
  {
   "cell_type": "code",
   "execution_count": 12,
   "metadata": {},
   "outputs": [
    {
     "name": "stdout",
     "output_type": "stream",
     "text": [
      "\r\n",
      "import pytest\r\n",
      "import meaning\r\n",
      "\r\n",
      "def test_meaning():\r\n",
      "    assert meaning.meaning_of_life() == 42\r\n"
     ]
    }
   ],
   "source": [
    "%%bash\n",
    "cat test_meaning.py"
   ]
  },
  {
   "cell_type": "code",
   "execution_count": 13,
   "metadata": {},
   "outputs": [
    {
     "name": "stdout",
     "output_type": "stream",
     "text": [
      "============================= test session starts =============================\r\n",
      "platform win32 -- Python 3.6.6, pytest-4.6.3, py-1.8.0, pluggy-0.12.0\r\n",
      "rootdir: U:\\git\\cicd_setup\r\n",
      "collected 1 item\r\n",
      "\r\n",
      "test_meaning.py .                                                        [100%]\r\n",
      "\r\n",
      "========================== 1 passed in 0.39 seconds ===========================\r\n"
     ]
    }
   ],
   "source": [
    "%%bash\n",
    "source env/scripts/activate\n",
    "pytest"
   ]
  },
  {
   "cell_type": "markdown",
   "metadata": {},
   "source": [
    "Tests are passing!"
   ]
  },
  {
   "cell_type": "markdown",
   "metadata": {},
   "source": [
    "## Use Travis CI for Continuous Integration\n",
    "* Login via https://travis-ci.org/\n",
    "* Enable your repo in the section https://travis-ci.org/account/repositories\n",
    "* Commit your changes to github"
   ]
  },
  {
   "cell_type": "code",
   "execution_count": 15,
   "metadata": {},
   "outputs": [],
   "source": [
    "import os\n",
    "\n",
    "file_name = \".travis.yml\"\n",
    "\n",
    "content = '''\n",
    "language: python\n",
    "script:\n",
    "  - python -m pytest\n",
    "'''\n",
    "\n",
    "with open(file_name, \"w\") as target_file:\n",
    "    target_file.write(content)\n"
   ]
  },
  {
   "cell_type": "code",
   "execution_count": null,
   "metadata": {},
   "outputs": [],
   "source": []
  }
 ],
 "metadata": {
  "kernelspec": {
   "display_name": "py36",
   "language": "python",
   "name": "py36"
  },
  "language_info": {
   "codemirror_mode": {
    "name": "ipython",
    "version": 3
   },
   "file_extension": ".py",
   "mimetype": "text/x-python",
   "name": "python",
   "nbconvert_exporter": "python",
   "pygments_lexer": "ipython3",
   "version": "3.6.6"
  }
 },
 "nbformat": 4,
 "nbformat_minor": 2
}
