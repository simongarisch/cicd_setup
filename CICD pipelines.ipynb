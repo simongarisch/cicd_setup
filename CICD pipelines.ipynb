{
 "cells": [
  {
   "cell_type": "markdown",
   "metadata": {},
   "source": [
    "# CICD Pipelines"
   ]
  },
  {
   "cell_type": "markdown",
   "metadata": {},
   "source": [
    "## Add a .gitignore\n",
    "We do not want to load our 'env' folder and all of the contents to github."
   ]
  },
  {
   "cell_type": "code",
   "execution_count": 1,
   "metadata": {},
   "outputs": [],
   "source": [
    "import os\n",
    "\n",
    "file_name = \".gitignore\"\n",
    "\n",
    "content = '''\n",
    "env/\n",
    ".ipynb_checkpoints/\n",
    ".pytest_cache/\n",
    "__pycache__/\n",
    "'''\n",
    "\n",
    "with open(file_name, \"w\") as target_file:\n",
    "    target_file.write(content)\n"
   ]
  },
  {
   "cell_type": "markdown",
   "metadata": {},
   "source": [
    "## Commit this to github\n",
    "We have the repo [here](https://github.com/simongarisch/cicd_setup)."
   ]
  },
  {
   "cell_type": "markdown",
   "metadata": {},
   "source": [
    "## Our environment\n",
    "We are going to manage the environment with virtualenv"
   ]
  },
  {
   "cell_type": "code",
   "execution_count": 2,
   "metadata": {},
   "outputs": [
    {
     "name": "stdout",
     "output_type": "stream",
     "text": [
      "Using base prefix 'c:\\\\anaconda2\\\\envs\\\\py36'\r\n",
      "  No LICENSE.txt / LICENSE found in source\r\n",
      "New python executable in U:\\git\\cicd_setup\\env\\Scripts\\python.exe\r\n",
      "Installing setuptools, pip, wheel...\r\n",
      "done.\r\n"
     ]
    }
   ],
   "source": [
    "%%bash\n",
    "source activate py36\n",
    "virtualenv env"
   ]
  },
  {
   "cell_type": "code",
   "execution_count": null,
   "metadata": {},
   "outputs": [],
   "source": [
    "%%bash\n",
    "source env/scripts/activate\n",
    "pip install pytest\n",
    "pip install flask\n",
    "pip install black"
   ]
  },
  {
   "cell_type": "markdown",
   "metadata": {},
   "source": [
    "Use this environment to create a requirements.txt file."
   ]
  },
  {
   "cell_type": "code",
   "execution_count": 5,
   "metadata": {},
   "outputs": [],
   "source": [
    "%%bash\n",
    "source env/scripts/activate\n",
    "pip freeze > requirements.txt"
   ]
  },
  {
   "cell_type": "markdown",
   "metadata": {},
   "source": [
    "## The script\n",
    "First we start with a very basic python script..."
   ]
  },
  {
   "cell_type": "code",
   "execution_count": 6,
   "metadata": {},
   "outputs": [],
   "source": [
    "pycode = '''\n",
    "\n",
    "def meaning_of_life():\n",
    "    return 42\n",
    "\n",
    "\n",
    "def main():\n",
    "    print(meaning_of_life())\n",
    "\n",
    "\n",
    "if __name__ == \"__main__\":\n",
    "    main()\n",
    "'''"
   ]
  },
  {
   "cell_type": "code",
   "execution_count": 7,
   "metadata": {},
   "outputs": [
    {
     "name": "stdout",
     "output_type": "stream",
     "text": [
      "42\n"
     ]
    }
   ],
   "source": [
    "exec(pycode)"
   ]
  },
  {
   "cell_type": "code",
   "execution_count": 8,
   "metadata": {},
   "outputs": [],
   "source": [
    "import os\n",
    "\n",
    "file_name = \"meaning.py\"\n",
    "with open(file_name, \"w\") as target_file:\n",
    "    target_file.write(pycode)\n"
   ]
  },
  {
   "cell_type": "code",
   "execution_count": 9,
   "metadata": {},
   "outputs": [
    {
     "name": "stdout",
     "output_type": "stream",
     "text": [
      "\r\n",
      "\r\n",
      "def meaning_of_life():\r\n",
      "    return 42\r\n",
      "\r\n",
      "\r\n",
      "def main():\r\n",
      "    print(meaning_of_life())\r\n",
      "\r\n",
      "\r\n",
      "if __name__ == \"__main__\":\r\n",
      "    main()\r\n"
     ]
    }
   ],
   "source": [
    "%%bash\n",
    "cat meaning.py"
   ]
  },
  {
   "cell_type": "markdown",
   "metadata": {},
   "source": [
    "## Testing the script"
   ]
  },
  {
   "cell_type": "code",
   "execution_count": 10,
   "metadata": {},
   "outputs": [],
   "source": [
    "test_code = \"\"\"\n",
    "import pytest\n",
    "import meaning\n",
    "\n",
    "def test_meaning():\n",
    "    assert meaning.meaning_of_life() == 42\n",
    "\"\"\""
   ]
  },
  {
   "cell_type": "code",
   "execution_count": 11,
   "metadata": {},
   "outputs": [],
   "source": [
    "file_name = \"test_meaning.py\"\n",
    "with open(file_name, \"w\") as target_file:\n",
    "    target_file.write(test_code)\n"
   ]
  },
  {
   "cell_type": "code",
   "execution_count": 12,
   "metadata": {},
   "outputs": [
    {
     "name": "stdout",
     "output_type": "stream",
     "text": [
      "\r\n",
      "import pytest\r\n",
      "import meaning\r\n",
      "\r\n",
      "def test_meaning():\r\n",
      "    assert meaning.meaning_of_life() == 42\r\n"
     ]
    }
   ],
   "source": [
    "%%bash\n",
    "cat test_meaning.py"
   ]
  },
  {
   "cell_type": "code",
   "execution_count": 13,
   "metadata": {},
   "outputs": [
    {
     "name": "stdout",
     "output_type": "stream",
     "text": [
      "============================= test session starts =============================\r\n",
      "platform win32 -- Python 3.6.6, pytest-4.6.3, py-1.8.0, pluggy-0.12.0\r\n",
      "rootdir: U:\\git\\cicd_setup\r\n",
      "collected 1 item\r\n",
      "\r\n",
      "test_meaning.py .                                                        [100%]\r\n",
      "\r\n",
      "========================== 1 passed in 0.39 seconds ===========================\r\n"
     ]
    }
   ],
   "source": [
    "%%bash\n",
    "source env/scripts/activate\n",
    "pytest"
   ]
  },
  {
   "cell_type": "markdown",
   "metadata": {},
   "source": [
    "Tests are passing!"
   ]
  },
  {
   "cell_type": "markdown",
   "metadata": {},
   "source": [
    "## Use Travis CI for Continuous Integration\n",
    "* Login via https://travis-ci.org/\n",
    "* Enable your repo in the section https://travis-ci.org/account/repositories\n",
    "* Commit your changes to github"
   ]
  },
  {
   "cell_type": "code",
   "execution_count": 15,
   "metadata": {},
   "outputs": [],
   "source": [
    "import os\n",
    "\n",
    "file_name = \".travis.yml\"\n",
    "\n",
    "content = '''\n",
    "language: python\n",
    "script:\n",
    "  - python -m pytest\n",
    "'''\n",
    "\n",
    "with open(file_name, \"w\") as target_file:\n",
    "    target_file.write(content)\n"
   ]
  },
  {
   "cell_type": "markdown",
   "metadata": {},
   "source": [
    "Travis will then run tests on this repo..."
   ]
  },
  {
   "cell_type": "code",
   "execution_count": 18,
   "metadata": {},
   "outputs": [
    {
     "data": {
      "image/png": "[encoded data removed]",
      "text/plain": [
       "<IPython.core.display.Image object>"
      ]
     },
     "execution_count": 18,
     "metadata": {},
     "output_type": "execute_result"
    }
   ],
   "source": [
    "from IPython.display import Image\n",
    "Image(\"travis.png\")"
   ]
  },
  {
   "cell_type": "markdown",
   "metadata": {},
   "source": [
    "Add a travis badge to your repo and commit the changes to github."
   ]
  },
  {
   "cell_type": "markdown",
   "metadata": {},
   "source": [
    "## Run code formatting with [black](https://github.com/python/black)"
   ]
  },
  {
   "cell_type": "code",
   "execution_count": 19,
   "metadata": {},
   "outputs": [
    {
     "name": "stderr",
     "output_type": "stream",
     "text": [
      "reformatted meaning.py\r\n",
      "All done! \\u2728 \\U0001f370 \\u2728\r\n",
      "1 file reformatted.\r\n",
      "reformatted test_meaning.py\r\n",
      "All done! \\u2728 \\U0001f370 \\u2728\r\n",
      "1 file reformatted.\r\n"
     ]
    }
   ],
   "source": [
    "%%bash\n",
    "source activate py36\n",
    "black meaning.py\n",
    "black test_meaning.py"
   ]
  },
  {
   "cell_type": "markdown",
   "metadata": {},
   "source": [
    "Now add the [black badge](https://img.shields.io/badge/code%20style-black-000000.svg)."
   ]
  },
  {
   "cell_type": "markdown",
   "metadata": {},
   "source": [
    "## Add [bettercodehub](https://bettercodehub.com/) to your repo\n",
    "Run the code analytics on your repo and push the changes to github."
   ]
  },
  {
   "cell_type": "markdown",
   "metadata": {},
   "source": [
    "## Generate a web app for your repo"
   ]
  },
  {
   "cell_type": "code",
   "execution_count": 22,
   "metadata": {},
   "outputs": [],
   "source": [
    "code = '''\n",
    "import os\n",
    "from flask import Flask\n",
    "from meaning import meaning_of_life\n",
    "\n",
    "app = Flask(__name__)\n",
    "\n",
    "@app.route(\"/\")\n",
    "def get_meaning():\n",
    "    page = '<html><body><h1>'\n",
    "    page += str(meaning_of_life())\n",
    "    page += '</h1></body></html>'\n",
    "    return page\n",
    "\n",
    "if __name__ == \"__main__\":\n",
    "    app.run(host='0.0.0.0', port=int(os.getenv('PORT', 5000)))\n",
    "'''"
   ]
  },
  {
   "cell_type": "code",
   "execution_count": 23,
   "metadata": {},
   "outputs": [],
   "source": [
    "import os\n",
    "\n",
    "file_name = \"app.py\"\n",
    "\n",
    "with open(file_name, \"w\") as target_file:\n",
    "    target_file.write(code)\n"
   ]
  },
  {
   "cell_type": "markdown",
   "metadata": {},
   "source": [
    "We can check that this site is working..."
   ]
  },
  {
   "cell_type": "code",
   "execution_count": null,
   "metadata": {},
   "outputs": [],
   "source": [
    "%%bash\n",
    "source env/scripts/activate\n",
    "python app.py"
   ]
  },
  {
   "cell_type": "code",
   "execution_count": 1,
   "metadata": {},
   "outputs": [
    {
     "data": {
      "image/png": "[encoded data removed]",
      "text/plain": [
       "<IPython.core.display.Image object>"
      ]
     },
     "execution_count": 1,
     "metadata": {},
     "output_type": "execute_result"
    }
   ],
   "source": [
    "from IPython.display import Image\n",
    "Image(\"site.png\")"
   ]
  },
  {
   "cell_type": "markdown",
   "metadata": {},
   "source": [
    "## Containerize your web app with [docker](https://hub.docker.com/_/python)\n",
    "We'll use 3.6.8-alpine3.8 as the base image."
   ]
  },
  {
   "cell_type": "code",
   "execution_count": 7,
   "metadata": {},
   "outputs": [],
   "source": [
    "content = '''\n",
    "FROM python:3.6.8-alpine3.8\n",
    "COPY requirements.txt /src/requirements.txt\n",
    "RUN pip install -r /src/requirements.txt\n",
    "COPY app.py /src\n",
    "COPY meaning.py /src\n",
    "COPY test_meaning.py /src\n",
    "CMD python /src/app.py\n",
    "'''\n",
    "\n",
    "file_name = \"Dockerfile\"\n",
    "with open(file_name, \"w\") as target_file:\n",
    "    target_file.write(content)\n"
   ]
  },
  {
   "cell_type": "markdown",
   "metadata": {},
   "source": [
    "Build this docker file..."
   ]
  },
  {
   "cell_type": "code",
   "execution_count": null,
   "metadata": {},
   "outputs": [],
   "source": [
    "%%bash\n",
    "docker build -t cicd_meaning ."
   ]
  },
  {
   "cell_type": "markdown",
   "metadata": {},
   "source": [
    "We can then run the dockerfile, but the web app is launched inside the container."
   ]
  },
  {
   "cell_type": "code",
   "execution_count": 4,
   "metadata": {},
   "outputs": [
    {
     "data": {
      "image/png": "[encoded data removed]",
      "text/plain": [
       "<IPython.core.display.Image object>"
      ]
     },
     "execution_count": 4,
     "metadata": {},
     "output_type": "execute_result"
    }
   ],
   "source": [
    "from IPython.display import Image\n",
    "Image(\"running_docker.png\")"
   ]
  },
  {
   "cell_type": "code",
   "execution_count": 5,
   "metadata": {},
   "outputs": [
    {
     "name": "stdout",
     "output_type": "stream",
     "text": [
      "CONTAINER ID        IMAGE               COMMAND                  CREATED             STATUS              PORTS               NAMES\n",
      "2d85d0e8738a        cicd_meaning        \"/bin/sh -c 'python â€¦\"   19 seconds ago      Up 17 seconds                           reverent_kalam\n"
     ]
    }
   ],
   "source": [
    "%%bash\n",
    "docker container ls"
   ]
  },
  {
   "cell_type": "markdown",
   "metadata": {},
   "source": [
    "Stop the container and then launch it with "
   ]
  },
  {
   "cell_type": "markdown",
   "metadata": {},
   "source": [
    "We need to link ports to expose our app on the local machine."
   ]
  },
  {
   "cell_type": "code",
   "execution_count": null,
   "metadata": {},
   "outputs": [],
   "source": []
  },
  {
   "cell_type": "code",
   "execution_count": null,
   "metadata": {},
   "outputs": [],
   "source": []
  },
  {
   "cell_type": "code",
   "execution_count": null,
   "metadata": {},
   "outputs": [],
   "source": []
  }
 ],
 "metadata": {
  "kernelspec": {
   "display_name": "py36",
   "language": "python",
   "name": "py36"
  },
  "language_info": {
   "codemirror_mode": {
    "name": "ipython",
    "version": 3
   },
   "file_extension": ".py",
   "mimetype": "text/x-python",
   "name": "python",
   "nbconvert_exporter": "python",
   "pygments_lexer": "ipython3",
   "version": "3.6.6"
  }
 },
 "nbformat": 4,
 "nbformat_minor": 2
}
